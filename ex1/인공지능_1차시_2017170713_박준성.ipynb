{
 "cells": [
  {
   "cell_type": "markdown",
   "metadata": {
    "id": "QHQaTCJJS7yi"
   },
   "source": [
    "# 2022  COSE361 실습 1 - search\n",
    "\n",
    "<과제 제출방법>\n",
    "\n",
    "1.   제목 끝에 학번과 이름을 추가합니다. 예시) 인공지능_1차시_20XXXXXXXX_이름\n",
    "2.   주피터노트북의 모든 코드가 오류없이 돌아가도록 실습 활동을 완료합니다.\n",
    "3.   모든 셀이 출력되있는 상태로 제출합니다\n",
    "\n",
    "** 주의사항\n",
    "- 본 노트북과 같은 폴더안에 implementation.py가 있어야합니다.\n",
    "- 본 실습은 파이썬 3.8 이상을 요구합니다.\n",
    "\n",
    "---------------------------------------------------------------------------------------------------------------------\n",
    "\n",
    "본 실습에서는 다양한 search 알고리즘들을 구현해보고, 비교 분석하는 시간을 갖도록 하겠습니다. 실습은 다음과 같이 진행되겠습니다.\n",
    "\n",
    "1. Grid 그려보기\n",
    "2. search 알고리즘\n",
    "  \n",
    "    - BFS\n",
    "    \n",
    "    - UCS\n",
    "    \n",
    "    - GBFS\n",
    "    \n",
    "    - A*\n",
    "    \n",
    "3. 실습과제\n",
    "\n",
    "* 실습을 제출할때는 모든 셀이 실행된 상태로 제출하여야하며, 아닐 경우 감점이 있을 것입니다. \n",
    "* 코드와 설명을 한줄한줄 읽어보며 이해하고 실습과제를 수행하면 됩니다."
   ]
  },
  {
   "cell_type": "markdown",
   "metadata": {
    "id": "M53L-z5FztEz"
   },
   "source": [
    "본 실습에서는 implementation이라는 모듈이 사용됩니다. 모듈의 구성이 궁금하신 분들은 implementation.py에 들어가서 탐구해보시기 바랍니다."
   ]
  },
  {
   "cell_type": "code",
   "execution_count": 150,
   "metadata": {
    "colab": {
     "base_uri": "https://localhost:8080/",
     "height": 445
    },
    "id": "13uGXknnzKZY",
    "outputId": "35edcbbb-c97f-4920-bdaa-59ae4e983d3e"
   },
   "outputs": [],
   "source": [
    "#import implementation\n",
    "from implementation import *"
   ]
  },
  {
   "cell_type": "markdown",
   "metadata": {},
   "source": [
    "# 1. Grid 그려보기\n",
    "\n",
    "이제 implementation에서 제공되는 메소드들을 사용하여 grid들을 그려보도록 하겠습니다. \n",
    "\n",
    "grid1은 SquareGrid라는 메서드를 사용하여 그려볼겁니다. "
   ]
  },
  {
   "cell_type": "code",
   "execution_count": 151,
   "metadata": {},
   "outputs": [],
   "source": [
    "#implementation 모듈에서 제공되는 SquareGrid라는 메서드를 사용하여 grid1을 그려봅시다\n",
    "#grid1의 크기는 30x15로 설정해줍니다\n",
    "grid1 = SquareGrid(30, 15)\n",
    "#grid1의 윤곽이 잡혔으면 임의로 구성된 장애물(wall)을 만듭니다.\n",
    "grid1.walls = [from_id_width(id, width=30) for id in [21,22,51,52,81,82,93,94,111,112,123,124,133,134,141,142,153,154,163,164,171,172,173,174,175,183,184,193,194,201,202,203,204,205,213,214,223,224,243,244,253,254,273,274,283,284,303,304,313,314,333,334,343,344,373,374,403,404,433,434]]"
   ]
  },
  {
   "cell_type": "code",
   "execution_count": 152,
   "metadata": {},
   "outputs": [
    {
     "name": "stdout",
     "output_type": "stream",
     "text": [
      "Grid1\n",
      "__________________________________________________________________________________________\n",
      " .  .  .  .  .  .  .  .  .  .  .  .  .  .  .  .  .  .  .  .  . ###### .  .  .  .  .  .  . \n",
      " .  .  .  .  .  .  .  .  .  .  .  .  .  .  .  .  .  .  .  .  . ###### .  .  .  .  .  .  . \n",
      " .  .  .  .  .  .  .  .  .  .  .  .  .  .  .  .  .  .  .  .  . ###### .  .  .  .  .  .  . \n",
      " .  .  . ###### .  .  .  .  .  .  .  .  .  .  .  .  .  .  .  . ###### .  .  .  .  .  .  . \n",
      " .  .  . ###### .  .  .  .  .  .  .  . ###### .  .  .  .  .  . ###### .  .  .  .  .  .  . \n",
      " .  .  . ###### .  .  .  .  .  .  .  . ###### .  .  .  .  .  . ############### .  .  .  . \n",
      " .  .  . ###### .  .  .  .  .  .  .  . ###### .  .  .  .  .  . ############### .  .  .  . \n",
      " .  .  . ###### .  .  .  .  .  .  .  . ###### .  .  .  .  .  .  .  .  .  .  .  .  .  .  . \n",
      " .  .  . ###### .  .  .  .  .  .  .  . ###### .  .  .  .  .  .  .  .  .  .  .  .  .  .  . \n",
      " .  .  . ###### .  .  .  .  .  .  .  . ###### .  .  .  .  .  .  .  .  .  .  .  .  .  .  . \n",
      " .  .  . ###### .  .  .  .  .  .  .  . ###### .  .  .  .  .  .  .  .  .  .  .  .  .  .  . \n",
      " .  .  . ###### .  .  .  .  .  .  .  . ###### .  .  .  .  .  .  .  .  .  .  .  .  .  .  . \n",
      " .  .  .  .  .  .  .  .  .  .  .  .  . ###### .  .  .  .  .  .  .  .  .  .  .  .  .  .  . \n",
      " .  .  .  .  .  .  .  .  .  .  .  .  . ###### .  .  .  .  .  .  .  .  .  .  .  .  .  .  . \n",
      " .  .  .  .  .  .  .  .  .  .  .  .  . ###### .  .  .  .  .  .  .  .  .  .  .  .  .  .  . \n",
      "~~~~~~~~~~~~~~~~~~~~~~~~~~~~~~~~~~~~~~~~~~~~~~~~~~~~~~~~~~~~~~~~~~~~~~~~~~~~~~~~~~~~~~~~~~\n"
     ]
    }
   ],
   "source": [
    "print('Grid1')\n",
    "#grid1을 출력해봅시다\n",
    "draw_grid(grid1)"
   ]
  },
  {
   "cell_type": "markdown",
   "metadata": {},
   "source": [
    "세군데의 공간에 #로 표기된 장애물이 생긴것을 확인할 수 있습니다.\n",
    "\n",
    "이번엔 좀 작은 grid를 그려보도록 하겠습니다. 이는 grid2라 하고 GridWithWegiths 메소드를 사용하게 됩니다.\n",
    "grid2에는 임의의 위치에 weight을 설정하도록 하겠습니다."
   ]
  },
  {
   "cell_type": "code",
   "execution_count": 153,
   "metadata": {
    "id": "f8lfSoyqw_wm"
   },
   "outputs": [],
   "source": [
    "#요번엔 GridWithWeights 메소드를 사용하여 grid2를 그려봅시다\n",
    "grid2 = GridWithWeights(10, 10)\n",
    "#grid2의 장애물은 아래와 같이 정의합니다.\n",
    "grid2.walls = [(1, 7), (1, 8), (2, 7), (2, 8), (3, 7), (3, 8)]\n",
    "#grid2에 weight를 추가해보도록 하겠습니다. weight는 아래 리스트의 위치들에, 그리고 5로 세팅하겠습니다.\n",
    "grid2.weights = {loc: 5 for loc in [(3, 4), (3, 5), (4, 1), (4, 2),\n",
    "                                       (4, 3), (4, 4), (4, 5), (4, 6),\n",
    "                                       (4, 7), (4, 8), (5, 1), (5, 2),\n",
    "                                       (5, 3), (5, 4), (5, 5), (5, 6),\n",
    "                                       (5, 7), (5, 8), (6, 2), (6, 3),\n",
    "                                       (6, 4), (6, 5), (6, 6), (6, 7),\n",
    "                                       (7, 3), (7, 4), (7, 5)]}"
   ]
  },
  {
   "cell_type": "markdown",
   "metadata": {},
   "source": [
    "먼저, weight가 출력되지 않은, wall만이 포함된 grid2를 출력해봅시다."
   ]
  },
  {
   "cell_type": "code",
   "execution_count": 154,
   "metadata": {
    "scrolled": true
   },
   "outputs": [
    {
     "name": "stdout",
     "output_type": "stream",
     "text": [
      "Grid2\n",
      "______________________________\n",
      " .  .  .  .  .  .  .  .  .  . \n",
      " .  .  .  .  .  .  .  .  .  . \n",
      " .  .  .  .  .  .  .  .  .  . \n",
      " .  .  .  .  .  .  .  .  .  . \n",
      " .  .  .  .  .  .  .  .  .  . \n",
      " .  .  .  .  .  .  .  .  .  . \n",
      " .  .  .  .  .  .  .  .  .  . \n",
      " . ######### .  .  .  .  .  . \n",
      " . ######### .  .  .  .  .  . \n",
      " .  .  .  .  .  .  .  .  .  . \n",
      "~~~~~~~~~~~~~~~~~~~~~~~~~~~~~~\n"
     ]
    }
   ],
   "source": [
    "print('Grid2')\n",
    "#이제 grid2를 그려봅시다\n",
    "draw_grid(grid2)"
   ]
  },
  {
   "cell_type": "markdown",
   "metadata": {},
   "source": [
    "작은 wall이 출력되는 것을 확인할 수 있습니다.\n",
    "\n",
    "이제, weight가 포함된 grid2를 출력해봅시다. 5로 설정된 weight들이 grid에 표시되는 것을 확인할 수 있습니다."
   ]
  },
  {
   "cell_type": "code",
   "execution_count": 155,
   "metadata": {},
   "outputs": [
    {
     "name": "stdout",
     "output_type": "stream",
     "text": [
      "Grid2 with weights\n",
      "______________________________\n",
      " .  .  .  .  .  .  .  .  .  . \n",
      " .  .  .  .  5  5  .  .  .  . \n",
      " .  .  .  .  5  5  5  .  .  . \n",
      " .  .  .  .  5  5  5  5  .  . \n",
      " .  .  .  5  5  5  5  5  .  . \n",
      " .  .  .  5  5  5  5  5  .  . \n",
      " .  .  .  .  5  5  5  .  .  . \n",
      " . ######### 5  5  5  .  .  . \n",
      " . ######### 5  5  .  .  .  . \n",
      " .  .  .  .  .  .  .  .  .  . \n",
      "~~~~~~~~~~~~~~~~~~~~~~~~~~~~~~\n"
     ]
    }
   ],
   "source": [
    "print('Grid2 with weights')\n",
    "draw_grid(grid2, number=grid2.weights)"
   ]
  },
  {
   "cell_type": "markdown",
   "metadata": {},
   "source": [
    "이제 GridWithAdjustedWeights메서드를 사용하여 grid3를 한번 그려봅시다. 이때 모든 grid에 weight를 1로 설정해줍니다. "
   ]
  },
  {
   "cell_type": "code",
   "execution_count": 156,
   "metadata": {},
   "outputs": [],
   "source": [
    "# grid with walls\n",
    "#15x15크기의 grid만들기\n",
    "grid3 = GridWithAdjustedWeights(15, 15)\n",
    "#grid에 장애물 만들기\n",
    "grid3.walls = [from_id_width(id, width=15) for id in [50, 51, 52, 53, 54, 55, 56, 57, 72, 87, 102, 117, 132, 147, 162, 177, 182, 183, 184, 185, 186, 187, 188, 189, 190, 191, 192]]\n",
    "#모든 grid에 weight 1로 설정\n",
    "grid3.weights = {loc: 1 for loc in list(itertools.product(list(range(15)), list(range(15))))}"
   ]
  },
  {
   "cell_type": "markdown",
   "metadata": {},
   "source": [
    "wall만 포함한 grid3를 출력해보도록 하겠습니다. 거꾸로된 디귿자의 형태의 장애물이 생긴것을 확인하실 수 있습니다."
   ]
  },
  {
   "cell_type": "code",
   "execution_count": 157,
   "metadata": {},
   "outputs": [
    {
     "name": "stdout",
     "output_type": "stream",
     "text": [
      "Grid3\n",
      "_____________________________________________\n",
      " .  .  .  .  .  .  .  .  .  .  .  .  .  .  . \n",
      " .  .  .  .  .  .  .  .  .  .  .  .  .  .  . \n",
      " .  .  .  .  .  .  .  .  .  .  .  .  .  .  . \n",
      " .  .  .  .  . ######################## .  . \n",
      " .  .  .  .  .  .  .  .  .  .  .  . ### .  . \n",
      " .  .  .  .  .  .  .  .  .  .  .  . ### .  . \n",
      " .  .  .  .  .  .  .  .  .  .  .  . ### .  . \n",
      " .  .  .  .  .  .  .  .  .  .  .  . ### .  . \n",
      " .  .  .  .  .  .  .  .  .  .  .  . ### .  . \n",
      " .  .  .  .  .  .  .  .  .  .  .  . ### .  . \n",
      " .  .  .  .  .  .  .  .  .  .  .  . ### .  . \n",
      " .  .  .  .  .  .  .  .  .  .  .  . ### .  . \n",
      " .  . ################################# .  . \n",
      " .  .  .  .  .  .  .  .  .  .  .  .  .  .  . \n",
      " .  .  .  .  .  .  .  .  .  .  .  .  .  .  . \n",
      "~~~~~~~~~~~~~~~~~~~~~~~~~~~~~~~~~~~~~~~~~~~~~\n"
     ]
    }
   ],
   "source": [
    "print('Grid3')\n",
    "draw_grid(grid3)"
   ]
  },
  {
   "cell_type": "markdown",
   "metadata": {},
   "source": [
    "이제 weight가 출력되도록 grid3를 출력해볼까요?\n",
    "(number=grid3.weights를 추가해주면 됩니다.)"
   ]
  },
  {
   "cell_type": "code",
   "execution_count": 158,
   "metadata": {},
   "outputs": [
    {
     "name": "stdout",
     "output_type": "stream",
     "text": [
      "Grid3 with weights\n",
      "_____________________________________________\n",
      " 1  1  1  1  1  1  1  1  1  1  1  1  1  1  1 \n",
      " 1  1  1  1  1  1  1  1  1  1  1  1  1  1  1 \n",
      " 1  1  1  1  1  1  1  1  1  1  1  1  1  1  1 \n",
      " 1  1  1  1  1 ######################## 1  1 \n",
      " 1  1  1  1  1  1  1  1  1  1  1  1 ### 1  1 \n",
      " 1  1  1  1  1  1  1  1  1  1  1  1 ### 1  1 \n",
      " 1  1  1  1  1  1  1  1  1  1  1  1 ### 1  1 \n",
      " 1  1  1  1  1  1  1  1  1  1  1  1 ### 1  1 \n",
      " 1  1  1  1  1  1  1  1  1  1  1  1 ### 1  1 \n",
      " 1  1  1  1  1  1  1  1  1  1  1  1 ### 1  1 \n",
      " 1  1  1  1  1  1  1  1  1  1  1  1 ### 1  1 \n",
      " 1  1  1  1  1  1  1  1  1  1  1  1 ### 1  1 \n",
      " 1  1 ################################# 1  1 \n",
      " 1  1  1  1  1  1  1  1  1  1  1  1  1  1  1 \n",
      " 1  1  1  1  1  1  1  1  1  1  1  1  1  1  1 \n",
      "~~~~~~~~~~~~~~~~~~~~~~~~~~~~~~~~~~~~~~~~~~~~~\n"
     ]
    }
   ],
   "source": [
    "print('Grid3 with weights')\n",
    "draw_grid(grid3, number=grid3.weights)"
   ]
  },
  {
   "cell_type": "markdown",
   "metadata": {},
   "source": [
    "장애물(wall)을 제외한 모든 grid가 1로 변환된 것을 확인할 수 있습니다.\n",
    "\n",
    "이제 구멍이 뚫린 grid4를 그려보도록 하겠습니다. grid3와 마찬가지로 GridWithAdjustedWeights 메서드를 사용하며 15x15의 크기를 가지도록 합니다. 다만 디귿자인 wall 중간에 구멍이 뚫리도록 하겠습니다."
   ]
  },
  {
   "cell_type": "code",
   "execution_count": 159,
   "metadata": {},
   "outputs": [],
   "source": [
    "# grid4는 디귿자인 벽 중 한군데에 구멍이 뚫려 있어야 합니다.\n",
    "grid4 = GridWithAdjustedWeights(15, 15)\n",
    "#index 177을 제거하여 구멍을 뚫습니다.\n",
    "grid4.walls = [from_id_width(id, width=15) for id in [50, 51, 52, 53, 54, 55, 56, 57, 72, 87, 102, 117, 132, 147, 162, 182, 183, 184, 185, 186, 187, 188, 189, 190, 191, 192]]\n",
    "#weight는 모두 1로 설정합니다.\n",
    "grid4.weights = {loc: 1 for loc in list(itertools.product(list(range(15)), list(range(15))))}"
   ]
  },
  {
   "cell_type": "code",
   "execution_count": 160,
   "metadata": {},
   "outputs": [
    {
     "name": "stdout",
     "output_type": "stream",
     "text": [
      "Grid4\n",
      "_____________________________________________\n",
      " .  .  .  .  .  .  .  .  .  .  .  .  .  .  . \n",
      " .  .  .  .  .  .  .  .  .  .  .  .  .  .  . \n",
      " .  .  .  .  .  .  .  .  .  .  .  .  .  .  . \n",
      " .  .  .  .  . ######################## .  . \n",
      " .  .  .  .  .  .  .  .  .  .  .  . ### .  . \n",
      " .  .  .  .  .  .  .  .  .  .  .  . ### .  . \n",
      " .  .  .  .  .  .  .  .  .  .  .  . ### .  . \n",
      " .  .  .  .  .  .  .  .  .  .  .  . ### .  . \n",
      " .  .  .  .  .  .  .  .  .  .  .  . ### .  . \n",
      " .  .  .  .  .  .  .  .  .  .  .  . ### .  . \n",
      " .  .  .  .  .  .  .  .  .  .  .  . ### .  . \n",
      " .  .  .  .  .  .  .  .  .  .  .  .  .  .  . \n",
      " .  . ################################# .  . \n",
      " .  .  .  .  .  .  .  .  .  .  .  .  .  .  . \n",
      " .  .  .  .  .  .  .  .  .  .  .  .  .  .  . \n",
      "~~~~~~~~~~~~~~~~~~~~~~~~~~~~~~~~~~~~~~~~~~~~~\n"
     ]
    }
   ],
   "source": [
    "print('Grid4')\n",
    "draw_grid(grid4)"
   ]
  },
  {
   "cell_type": "code",
   "execution_count": 161,
   "metadata": {},
   "outputs": [
    {
     "name": "stdout",
     "output_type": "stream",
     "text": [
      "Grid4 with weights\n",
      "_____________________________________________\n",
      " 1  1  1  1  1  1  1  1  1  1  1  1  1  1  1 \n",
      " 1  1  1  1  1  1  1  1  1  1  1  1  1  1  1 \n",
      " 1  1  1  1  1  1  1  1  1  1  1  1  1  1  1 \n",
      " 1  1  1  1  1 ######################## 1  1 \n",
      " 1  1  1  1  1  1  1  1  1  1  1  1 ### 1  1 \n",
      " 1  1  1  1  1  1  1  1  1  1  1  1 ### 1  1 \n",
      " 1  1  1  1  1  1  1  1  1  1  1  1 ### 1  1 \n",
      " 1  1  1  1  1  1  1  1  1  1  1  1 ### 1  1 \n",
      " 1  1  1  1  1  1  1  1  1  1  1  1 ### 1  1 \n",
      " 1  1  1  1  1  1  1  1  1  1  1  1 ### 1  1 \n",
      " 1  1  1  1  1  1  1  1  1  1  1  1 ### 1  1 \n",
      " 1  1  1  1  1  1  1  1  1  1  1  1  1  1  1 \n",
      " 1  1 ################################# 1  1 \n",
      " 1  1  1  1  1  1  1  1  1  1  1  1  1  1  1 \n",
      " 1  1  1  1  1  1  1  1  1  1  1  1  1  1  1 \n",
      "~~~~~~~~~~~~~~~~~~~~~~~~~~~~~~~~~~~~~~~~~~~~~\n"
     ]
    }
   ],
   "source": [
    "print('Grid4 with weights')\n",
    "draw_grid(grid4, number=grid4.weights)"
   ]
  },
  {
   "cell_type": "markdown",
   "metadata": {},
   "source": [
    "# 2. Search algorithms"
   ]
  },
  {
   "cell_type": "markdown",
   "metadata": {
    "id": "NqaemoNwx9El"
   },
   "source": [
    "![](https://www.massey.ac.nz/~mjjohnso/notes/59302/fig04.02.gif)\n",
    "\n",
    "여태까지 그려본 grid 1부터 4를 가지고 최단경로탐색 알고리즘을 활용하여 실험을 해보도록 하겠습니다.\n",
    "본 실습에서 구현해볼 알고리즘은 총 4가지 입니다.\n",
    "- BFS\n",
    "- Uninform cost search\n",
    "- Greedy Best first search\n",
    "- A* \n",
    "\n",
    "이 4가지 알고리즘들을 구현해보고, 각 grid에서 어떤방식으로 경로를 탐색하는지 살펴보도록 하겠습니다."
   ]
  },
  {
   "cell_type": "markdown",
   "metadata": {
    "id": "Uq-S1brRybHE"
   },
   "source": [
    "## 2-1 BFS\n",
    "\n",
    "본 섹션에서는 BFS를 구현해보도록 합시다."
   ]
  },
  {
   "cell_type": "code",
   "execution_count": 162,
   "metadata": {
    "id": "gv1hPAGHx9G5"
   },
   "outputs": [],
   "source": [
    "#input으로 그래프, 시작과 목표지점 location을 받습니다.\n",
    "def breadth_first_search(graph: Graph, start: Location, goal: Location):\n",
    "    \n",
    "    #bfs에서는 queue를 사용하여 구현합니다. \n",
    "    frontier = Queue()   #Queue는 implementation.py에서 구현된 것을 사용합니다.\n",
    "    \n",
    "    #시작 지점을 설정하고 queue에 넣습니다.\n",
    "    frontier.put(start)\n",
    "    #알고리즘이 탐색한 모든 위치를 저장합니다.(교재에 있는 explored set)\n",
    "    came_from: Dict[Location, Optional[Location]] = {}\n",
    "    #시작지점을 none으로 저장\n",
    "    came_from[start] = None\n",
    "    #frontier가 empty가 될때까지\n",
    "    while not frontier.empty():\n",
    "        #get()은 queue의 pop역할을 합니다.\n",
    "        #current위치를 frontier에서 pop합니다\n",
    "        current: Location = frontier.get()\n",
    "        \n",
    "        #만약 현재 grid가 goal이라면 멈춥니다.\n",
    "        if current == goal: # early exit\n",
    "            break\n",
    "\n",
    "    # current location의 모든 neighbor들을 loop\n",
    "        for next in graph.neighbors(current):\n",
    "            #만약 모든 next가 탐색한 dictionary에 없다면\n",
    "            if next not in came_from:\n",
    "                #frontier에 추가합니다.\n",
    "                frontier.put(next)\n",
    "                #어느 방향에서 왔는지를 기록게됩니다.\n",
    "                came_from[next] = current\n",
    "            \n",
    "    return came_from"
   ]
  },
  {
   "cell_type": "markdown",
   "metadata": {},
   "source": [
    "grid1에 구현한 bfs를 사용하여 start1 위치를 (8,7), goal1 위치는 (27,2)로 설정하여 최단거리를 탐색해봅시다.\n",
    "\n",
    "어떤 결과가 나오나요?\n"
   ]
  },
  {
   "cell_type": "code",
   "execution_count": 163,
   "metadata": {
    "id": "VFEG9QhTx9JX"
   },
   "outputs": [
    {
     "name": "stdout",
     "output_type": "stream",
     "text": [
      "__________________________________________________________________________________________\n",
      " .  .  .  .  .  .  .  .  .  .  .  .  .  .  .  .  .  .  .  .  . ###### .  .  .  .  .  .  . \n",
      " .  .  .  .  .  .  .  .  .  .  .  .  .  .  .  .  .  .  .  .  . ###### .  .  .  .  .  .  . \n",
      " .  .  .  .  .  .  .  .  .  .  .  .  .  .  .  .  .  .  .  .  . ###### .  .  .  .  Z  .  . \n",
      " .  .  . ###### .  .  .  .  .  .  .  @  @  @  @  .  .  .  .  . ###### .  .  .  .  @  .  . \n",
      " .  .  . ###### .  .  .  .  .  .  @  @ ###### @  @  .  .  .  . ###### .  .  .  .  @  .  . \n",
      " .  .  . ###### .  .  .  .  .  @  @  . ###### .  @  @  .  .  . ############### .  @  .  . \n",
      " .  .  . ###### .  .  .  .  @  @  .  . ###### .  .  @  @  .  . ############### .  @  .  . \n",
      " .  .  . ###### .  .  .  A  @  .  .  . ###### .  .  .  @  @  @  @  @  @  @  @  @  @  .  . \n",
      " .  .  . ###### .  .  .  .  .  .  .  . ###### .  .  .  .  .  .  .  .  .  .  .  .  .  .  . \n",
      " .  .  . ###### .  .  .  .  .  .  .  . ###### .  .  .  .  .  .  .  .  .  .  .  .  .  .  . \n",
      " .  .  . ###### .  .  .  .  .  .  .  . ###### .  .  .  .  .  .  .  .  .  .  .  .  .  .  . \n",
      " .  .  . ###### .  .  .  .  .  .  .  . ###### .  .  .  .  .  .  .  .  .  .  .  .  .  .  . \n",
      " .  .  .  .  .  .  .  .  .  .  .  .  . ###### .  .  .  .  .  .  .  .  .  .  .  .  .  .  . \n",
      " .  .  .  .  .  .  .  .  .  .  .  .  . ###### .  .  .  .  .  .  .  .  .  .  .  .  .  .  . \n",
      " .  .  .  .  .  .  .  .  .  .  .  .  . ###### .  .  .  .  .  .  .  .  .  .  .  .  .  .  . \n",
      "~~~~~~~~~~~~~~~~~~~~~~~~~~~~~~~~~~~~~~~~~~~~~~~~~~~~~~~~~~~~~~~~~~~~~~~~~~~~~~~~~~~~~~~~~~\n"
     ]
    }
   ],
   "source": [
    "start1, goal1 = (8, 7), (27, 2)\n",
    "#구현한 bfs를 이용하여 grid1에서 start1위치에서 goal1위치로 가는 최단경로를 탐색합니다\n",
    "came_from_b = breadth_first_search(grid1, start1, goal1)\n",
    "#grid1에서 bfs가 찾은 start1으로부터 goal1으로 가는 최단경로 그려봅시다.\n",
    "draw_grid(grid1, path=reconstruct_path(came_from_b, start=start1, goal=goal1)\n",
    "          ,start=start1, goal=goal1)"
   ]
  },
  {
   "cell_type": "markdown",
   "metadata": {},
   "source": [
    "시작 지점은 A로, 지나간 경로는 @로, goal지점은 Z로 표기되는 것을 알 수 있습니다.\n",
    "\n",
    "이번엔 grid2에서 BFS를 실행해보도록 합시다. 이때, start 위치는 (1,4), goal위치는 (8,3)으로 합니다"
   ]
  },
  {
   "cell_type": "code",
   "execution_count": 164,
   "metadata": {},
   "outputs": [
    {
     "name": "stdout",
     "output_type": "stream",
     "text": [
      "______________________________\n",
      " .  .  .  .  .  .  .  .  .  . \n",
      " .  .  .  .  .  .  .  .  .  . \n",
      " .  .  .  .  .  .  .  .  .  . \n",
      " .  .  @  @  @  @  @  @  Z  . \n",
      " .  A  @  .  .  .  .  .  .  . \n",
      " .  .  .  .  .  .  .  .  .  . \n",
      " .  .  .  .  .  .  .  .  .  . \n",
      " . ######### .  .  .  .  .  . \n",
      " . ######### .  .  .  .  .  . \n",
      " .  .  .  .  .  .  .  .  .  . \n",
      "~~~~~~~~~~~~~~~~~~~~~~~~~~~~~~\n"
     ]
    }
   ],
   "source": [
    "start2, goal2 = (1, 4), (8, 3)\n",
    "#구현한 bfs를 이용하여 grid2에서 start2위치에서 goal2위치로 가는 최단경로를 탐색합니다\n",
    "came_from_b = breadth_first_search(grid2, start2, goal2)\n",
    "#grid2에서 bfs로 찾은 start2에서부터 goal2로의 최단경로를 그려봅니다.\n",
    "draw_grid(grid2, path=reconstruct_path(came_from_b, start=start2, goal=goal2),\n",
    "          start=start2, goal=goal2)"
   ]
  },
  {
   "cell_type": "markdown",
   "metadata": {},
   "source": [
    "bfs는 weight를 고려하지 않기 때문에, weight 상관없이 시작 지점부터 목표 지점까지 path를 찾아가는 것을 볼 수 있습니다."
   ]
  },
  {
   "cell_type": "code",
   "execution_count": 165,
   "metadata": {},
   "outputs": [
    {
     "name": "stdout",
     "output_type": "stream",
     "text": [
      "______________________________\n",
      " .  .  .  .  .  .  .  .  .  . \n",
      " .  .  .  .  5  5  .  .  .  . \n",
      " .  .  .  .  5  5  5  .  .  . \n",
      " .  .  @  @  @  @  @  @  Z  . \n",
      " .  A  @  5  5  5  5  5  .  . \n",
      " .  .  .  5  5  5  5  5  .  . \n",
      " .  .  .  .  5  5  5  .  .  . \n",
      " . ######### 5  5  5  .  .  . \n",
      " . ######### 5  5  .  .  .  . \n",
      " .  .  .  .  .  .  .  .  .  . \n",
      "~~~~~~~~~~~~~~~~~~~~~~~~~~~~~~\n"
     ]
    }
   ],
   "source": [
    "#weight을 나타낸 grid2에 출력한 bfs의 최단경로\n",
    "draw_grid(grid2, path=reconstruct_path(came_from_b, start=start2, goal=goal2),\n",
    "           number=grid2.weights, start=start2, goal=goal2)"
   ]
  },
  {
   "cell_type": "markdown",
   "metadata": {
    "id": "s0DK9Q5AyfGq"
   },
   "source": [
    "## 2-2 Uniform cost search\n",
    "\n",
    "이제 uniform cost search를 구현해보도록 하겠습니다."
   ]
  },
  {
   "cell_type": "code",
   "execution_count": 166,
   "metadata": {
    "id": "TCtuAHI3yZ27"
   },
   "outputs": [],
   "source": [
    "def uniform_cost_search(graph: WeightedGraph, start: Location, goal: Location):\n",
    "    \n",
    "    #Uniform cost search에서는 priority queue를 사용합니다. implementation.py에 구현이 되어있습니다.\n",
    "    frontier = PriorityQueue()\n",
    "    #frontier로 정의한 priority queue안에 start지점과 cost 0을 넣습니다.\n",
    "    frontier.put(start, 0)\n",
    "    #bfs와 마찬가지로 탐색했는지를 check\n",
    "    came_from: Dict[Location, Optional[Location]] = {}\n",
    "    came_from[start] = None\n",
    "    \n",
    "    #ucs는 bfs와 다르게 cost를 저장하기 때문에 cost_so_far에 goal까지의 cost들을 저장해줍니다.\n",
    "    cost_so_far: Dict[Location, float] = {}\n",
    "    #시작 cost=0\n",
    "    cost_so_far[start] = 0\n",
    "    \n",
    "    while not frontier.empty():\n",
    "        current: Location = frontier.get()\n",
    "        \n",
    "        if current == goal:\n",
    "            break\n",
    "            \n",
    "        # current location의 모든 neighbor들을 loop\n",
    "        for next in graph.neighbors(current):\n",
    "            #next까지의의 cost를 계산합니다==> 현재 cost와 next의 cost를 더해줍니다.\n",
    "            new_cost = cost_so_far[current] + graph.cost(current, next)\n",
    "            \n",
    "            #next가 탐색되지 않은 grid거나, 현재 탐색되고 있는 new cost가 탐색되었던 cost보다 작을때, \n",
    "            if next not in cost_so_far or new_cost < cost_so_far[next]:\n",
    "                #cost_so_far[next]를 new_cost로 업데이트\n",
    "                cost_so_far[next] = new_cost\n",
    "                #new_cost에 대해서 priority를 부여합니다\n",
    "                priority = new_cost\n",
    "                #탐색하게 될 frontier에 next grid와 priority정보를 priority queue에 추가합니다.\n",
    "                frontier.put(next, priority)\n",
    "                #came_from에 현재까지 탐색한 grid 위치와 방향을 저장합니다.\n",
    "                came_from[next] = current\n",
    "    #path와 cost들을 출력합니다\n",
    "    return came_from, cost_so_far"
   ]
  },
  {
   "cell_type": "markdown",
   "metadata": {},
   "source": [
    "이제 grid2에 ucs를 사용하여 start2 (1,4) 위치에서 goal2 (8,3)까지의 최단거리를 탐색해봅시다. "
   ]
  },
  {
   "cell_type": "code",
   "execution_count": 167,
   "metadata": {},
   "outputs": [
    {
     "name": "stdout",
     "output_type": "stream",
     "text": [
      "______________________________\n",
      " .  @  @  @  @  @  @  .  .  . \n",
      " .  @  .  .  5  5  @  @  .  . \n",
      " .  @  .  .  5  5  5  @  @  . \n",
      " .  @  .  .  5  5  5  5  Z  . \n",
      " .  A  .  5  5  5  5  5  .  . \n",
      " .  .  .  5  5  5  5  5  .  . \n",
      " .  .  .  .  5  5  5  .  .  . \n",
      " . ######### 5  5  5  .  .  . \n",
      " . ######### 5  5  .  .  .  . \n",
      " .  .  .  .  .  .  .  .  .  . \n",
      "~~~~~~~~~~~~~~~~~~~~~~~~~~~~~~\n"
     ]
    }
   ],
   "source": [
    "# Uniform cost search on grid2\n",
    "start2, goal2 = (1, 4), (8, 3)\n",
    "came_from_u, cost_so_far_u = uniform_cost_search(grid2, start2, goal2)\n",
    "draw_grid(grid2, path=reconstruct_path(came_from_u, start=start2, goal=goal2),\n",
    "          number=grid2.weights, start=start2, goal=goal2)"
   ]
  },
  {
   "cell_type": "markdown",
   "metadata": {},
   "source": [
    "cost가 높은 부분을 피하여 path가 구성된 것을 알 수 있습니다."
   ]
  },
  {
   "cell_type": "markdown",
   "metadata": {},
   "source": [
    "## 2-3 Heuristic function\n",
    "\n",
    "이제 heuristic function을 사용하여 최단경로를 찾는 greedy best search와 A* search를 구현해보도록 하겠습니다. 그전에 heuristic function을 구현해봅시다. 본 실습에서는 manhattan distance와 euclidean distance를 heuristic function으로 사용하도록 할겁니다. (다만 euclidean distance는 실습과제로 여러분이 구현해보기 바랍니다)\n",
    "\n",
    "![](https://miro.medium.com/max/1068/0*_9ljPf7RbVI5cVdG.png)"
   ]
  },
  {
   "cell_type": "code",
   "execution_count": 168,
   "metadata": {
    "id": "lxvCnE6bx9L0"
   },
   "outputs": [],
   "source": [
    "# Heuristic Functions\n",
    "#Manhattan distance\n",
    "def heuristic_manhattan(a: GridLocation, b: GridLocation) -> float:\n",
    "    \"\"\"Manhattan distance on a square grid\"\"\"\n",
    "    (x1, y1) = a\n",
    "    (x2, y2) = b\n",
    "    return abs(x1-x2) + abs(y1-y2)"
   ]
  },
  {
   "cell_type": "markdown",
   "metadata": {
    "id": "ZOgzef61yrg-"
   },
   "source": [
    "## 2-4 Greedy Best-First Search\n",
    "\n",
    "Greedy Best-First Search와 BFS의 차이점은 heuristic을 사용한다는 것 입니다. 본 실습에서는 manhattan distance를 heuristic function으로 사용하여 구현해보도록 하겠습니다."
   ]
  },
  {
   "cell_type": "code",
   "execution_count": 169,
   "metadata": {
    "id": "UC_WtwZ1x9OK"
   },
   "outputs": [],
   "source": [
    "def greedy_best_first_search(graph: WeightedGraph, start: Location, goal: Location):\n",
    "    frontier = PriorityQueue()\n",
    "    frontier.put(start, 0)\n",
    "    came_from: Dict[Location, Optional[Location]] = {}\n",
    "    came_from[start] = None\n",
    "\n",
    "    while not frontier.empty():\n",
    "        current: Location = frontier.get()\n",
    "\n",
    "        if current == goal:\n",
    "            break\n",
    "\n",
    "        for next in graph.neighbors(current):\n",
    "            if next not in came_from:\n",
    "                #bfs와 동일하지만 priority를 heuristic함수를 사용합니다.\n",
    "                #next와 goal이 얼마나 가까운지를 알려주는 heuristic 함수 중 하나인 manhattan distance를 사용합니다.\n",
    "                priority = heuristic_manhattan(next, goal) \n",
    "                frontier.put(next, priority)\n",
    "                came_from[next] = current\n",
    "    return came_from"
   ]
  },
  {
   "cell_type": "markdown",
   "metadata": {},
   "source": [
    "이제 구현한 Greedy best search를 사용하여 grid2에서 start2와 goal2지점의 최단경로를 탐색하도록 해봅시다."
   ]
  },
  {
   "cell_type": "code",
   "execution_count": 170,
   "metadata": {
    "id": "jY8sRRLTyqgh"
   },
   "outputs": [
    {
     "name": "stdout",
     "output_type": "stream",
     "text": [
      "______________________________\n",
      " .  .  .  .  .  .  .  .  .  . \n",
      " .  .  .  .  5  5  .  .  .  . \n",
      " .  .  .  .  5  5  5  .  .  . \n",
      " .  @  @  @  @  @  @  @  Z  . \n",
      " .  A  .  5  5  5  5  5  .  . \n",
      " .  .  .  5  5  5  5  5  .  . \n",
      " .  .  .  .  5  5  5  .  .  . \n",
      " . ######### 5  5  5  .  .  . \n",
      " . ######### 5  5  .  .  .  . \n",
      " .  .  .  .  .  .  .  .  .  . \n",
      "~~~~~~~~~~~~~~~~~~~~~~~~~~~~~~\n"
     ]
    }
   ],
   "source": [
    "# Greedy best Search on grid2\n",
    "came_from_g = greedy_best_first_search(grid2, start2, goal2)\n",
    "draw_grid(grid2, path=reconstruct_path(came_from_g, start=start2, goal=goal2),\n",
    "          number=grid2.weights, start=start2, goal=goal2)"
   ]
  },
  {
   "cell_type": "markdown",
   "metadata": {
    "id": "U4MKG4K5yv7o"
   },
   "source": [
    "## 2-5    A* search\n",
    "\n",
    "A* search는 heuristic과 cost도 사용합니다. heuristic함수는 위에서 구현한 manhattan distance를 사용할 것입니다."
   ]
  },
  {
   "cell_type": "code",
   "execution_count": 171,
   "metadata": {
    "colab": {
     "base_uri": "https://localhost:8080/",
     "height": 245
    },
    "id": "peWbbsluyqiu",
    "outputId": "e3b54c5d-37de-4438-b4d3-48f981cc12ba"
   },
   "outputs": [],
   "source": [
    "def a_star_search(graph: WeightedGraph, start: Location, goal: Location):\n",
    "    frontier = PriorityQueue()\n",
    "    frontier.put(start, 0)\n",
    "    came_from: Dict[Location, Optional[Location]] = {}\n",
    "    cost_so_far: Dict[Location, float] = {}\n",
    "    came_from[start] = None\n",
    "    cost_so_far[start] = 0\n",
    "    \n",
    "    while not frontier.empty():\n",
    "        current: Location = frontier.get()\n",
    "        \n",
    "        if current == goal:\n",
    "            break\n",
    "        #uniformed cost search와 동일합니다\n",
    "        for next in graph.neighbors(current):\n",
    "            new_cost = cost_so_far[current] + graph.cost(current, next)\n",
    "            if next not in cost_so_far or new_cost < cost_so_far[next]:\n",
    "                cost_so_far[next] = new_cost\n",
    "                #다만 a*는 heuristic과 cost를 함께 사용합니다. \n",
    "                #priority는 heuristic과 cost를 더한 값을 사용하게 됩니다.\n",
    "                priority = new_cost + heuristic_manhattan(next, goal) \n",
    "                frontier.put(next, priority)\n",
    "                came_from[next] = current\n",
    "    \n",
    "    return came_from, cost_so_far"
   ]
  },
  {
   "cell_type": "markdown",
   "metadata": {},
   "source": [
    "이제 A* search를 grid2에서의 start2에서 goal2까지의 최단경로를 탐색해봅시다"
   ]
  },
  {
   "cell_type": "code",
   "execution_count": 172,
   "metadata": {
    "id": "WnzwLm1nyqku",
    "scrolled": true
   },
   "outputs": [
    {
     "name": "stdout",
     "output_type": "stream",
     "text": [
      "______________________________\n",
      " .  .  .  @  @  @  @  .  .  . \n",
      " .  .  .  @  5  5  @  @  .  . \n",
      " .  .  .  @  5  5  5  @  @  . \n",
      " .  @  @  @  5  5  5  5  Z  . \n",
      " .  A  .  5  5  5  5  5  .  . \n",
      " .  .  .  5  5  5  5  5  .  . \n",
      " .  .  .  .  5  5  5  .  .  . \n",
      " . ######### 5  5  5  .  .  . \n",
      " . ######### 5  5  .  .  .  . \n",
      " .  .  .  .  .  .  .  .  .  . \n",
      "~~~~~~~~~~~~~~~~~~~~~~~~~~~~~~\n"
     ]
    }
   ],
   "source": [
    "# A* Search on grid2\n",
    "came_from_a, cost_so_far_a = a_star_search(grid2, start2, goal2)\n",
    "draw_grid(grid2, path=reconstruct_path(came_from_a, start=start2, goal=goal2),\n",
    "          number=grid2.weights, start=start2, goal=goal2)"
   ]
  },
  {
   "cell_type": "markdown",
   "metadata": {},
   "source": [
    "ucs와 비슷하게 cost를 고려하되, manhattan distance까지 고려하여 path를 탐색한 것을 알 수 있습니다"
   ]
  },
  {
   "cell_type": "markdown",
   "metadata": {
    "id": "v9a5gbEeSjsr"
   },
   "source": [
    "# 3. 실습과제(총 20점)\n"
   ]
  },
  {
   "cell_type": "markdown",
   "metadata": {},
   "source": [
    "1. Uniform cost search(2점)\n",
    "    - grid3에 draw_grid함수를 이용하여 start3에서 goal3로 가는 path를 출력하세요\n",
    "    - grid4에 draw_grid함수를 이용하여 start3에서 goal3로 가는 path를 출력하세요\n",
    "\n",
    "\n",
    "2. euclidean distance 구현하기(1점)\n",
    "\n",
    "\n",
    "3. 구현한 euclidean distance를 heuristic함수로 사용하여 greedy best first search와 A* search를 구현하기(3점)\n",
    "\n",
    "\n",
    "4. Greedy Best First Search(2점)\n",
    "     - 3번에서 구현한 greedy best first search를 사용하여 아래 과제를 수행하세요\n",
    "     - grid3에 draw_grid함수를 이용하여 start3에서 goal3로 가는 path를 출력하세요\n",
    "     - grid4에 draw_grid함수를 이용하여 start3에서 goal3로 가는 path를 출력하세요\n",
    "\n",
    "\n",
    "5. A* Search(2점)\n",
    "    - 3번에서 구현한 greedy best first search를 사용하여 아래 과제를 수행하세요\n",
    "    - grid3에 draw_grid함수를 이용하여 start3에서 goal3로 가는 path를 출력하세요\n",
    "    - grid4에 draw_grid함수를 이용하여 start3에서 goal3로 가는 path를 출력하세요\n",
    "    \n",
    "    \n",
    "6. 위의 과제들을 통해 찾아진 path들을 optimality 관점으로 비교 및 분석하세요(5점)\n",
    "    "
   ]
  },
  {
   "cell_type": "code",
   "execution_count": 173,
   "metadata": {},
   "outputs": [],
   "source": [
    "start3, goal3 = (0, 12), (14, 2)"
   ]
  },
  {
   "cell_type": "code",
   "execution_count": 174,
   "metadata": {},
   "outputs": [
    {
     "name": "stdout",
     "output_type": "stream",
     "text": [
      "_____________________________________________\n",
      " 1  1  1  1  1  1  1  1  1  1  1  1  1  1  1 \n",
      " 1  1  1  1  1  1  1  1  1  1  1  1  1  1  1 \n",
      " 1  1  1  1  @  @  @  @  @  @  @  @  @  @  Z \n",
      " 1  1  1  1  @ ######################## 1  1 \n",
      " 1  1  1  1  @  1  1  1  1  1  1  1 ### 1  1 \n",
      " 1  1  1  1  @  1  1  1  1  1  1  1 ### 1  1 \n",
      " 1  1  1  1  @  1  1  1  1  1  1  1 ### 1  1 \n",
      " 1  1  1  1  @  1  1  1  1  1  1  1 ### 1  1 \n",
      " 1  1  1  @  @  1  1  1  1  1  1  1 ### 1  1 \n",
      " 1  1  @  @  1  1  1  1  1  1  1  1 ### 1  1 \n",
      " 1  @  @  1  1  1  1  1  1  1  1  1 ### 1  1 \n",
      " @  @  1  1  1  1  1  1  1  1  1  1 ### 1  1 \n",
      " A  1 ################################# 1  1 \n",
      " 1  1  1  1  1  1  1  1  1  1  1  1  1  1  1 \n",
      " 1  1  1  1  1  1  1  1  1  1  1  1  1  1  1 \n",
      "~~~~~~~~~~~~~~~~~~~~~~~~~~~~~~~~~~~~~~~~~~~~~\n"
     ]
    }
   ],
   "source": [
    "#과제1-1 uniform cost search grid3\n",
    "came_from_u, cost_so_far_u = uniform_cost_search(grid3, start3, goal3)\n",
    "draw_grid(grid3, path=reconstruct_path(came_from_u, start=start3, goal=goal3),\n",
    "          number=grid3.weights, start=start3, goal=goal3)"
   ]
  },
  {
   "cell_type": "code",
   "execution_count": 175,
   "metadata": {},
   "outputs": [
    {
     "name": "stdout",
     "output_type": "stream",
     "text": [
      "_____________________________________________\n",
      " 1  1  1  1  1  1  1  1  1  1  1  1  1  1  1 \n",
      " 1  1  1  1  1  1  1  1  1  1  1  1  1  1  1 \n",
      " 1  1  1  1  @  @  @  @  @  @  @  @  @  @  Z \n",
      " 1  1  1  1  @ ######################## 1  1 \n",
      " 1  1  1  1  @  1  1  1  1  1  1  1 ### 1  1 \n",
      " 1  1  1  1  @  1  1  1  1  1  1  1 ### 1  1 \n",
      " 1  1  1  1  @  1  1  1  1  1  1  1 ### 1  1 \n",
      " 1  1  1  1  @  1  1  1  1  1  1  1 ### 1  1 \n",
      " 1  1  1  @  @  1  1  1  1  1  1  1 ### 1  1 \n",
      " 1  1  @  @  1  1  1  1  1  1  1  1 ### 1  1 \n",
      " 1  @  @  1  1  1  1  1  1  1  1  1 ### 1  1 \n",
      " @  @  1  1  1  1  1  1  1  1  1  1  1  1  1 \n",
      " A  1 ################################# 1  1 \n",
      " 1  1  1  1  1  1  1  1  1  1  1  1  1  1  1 \n",
      " 1  1  1  1  1  1  1  1  1  1  1  1  1  1  1 \n",
      "~~~~~~~~~~~~~~~~~~~~~~~~~~~~~~~~~~~~~~~~~~~~~\n"
     ]
    }
   ],
   "source": [
    "#과제1-2 uniform cost search grid4\n",
    "came_from_u, cost_so_far_u = uniform_cost_search(grid4, start3, goal3)\n",
    "draw_grid(grid4, path=reconstruct_path(came_from_u, start=start3, goal=goal3),\n",
    "          number=grid4.weights, start=start3, goal=goal3)"
   ]
  },
  {
   "cell_type": "code",
   "execution_count": 176,
   "metadata": {},
   "outputs": [],
   "source": [
    "# 과제 2 euclidean distance heuristic 구현\n",
    "def heuristic_euclidean(a: GridLocation, b: GridLocation) -> float:\n",
    "    \"\"\"Euclidean distance on a square grid\"\"\"\n",
    "    #x1,y1지점을 a, x2,y2 지점을 b라고 할때, \n",
    "    (x1, y1) = a\n",
    "    (x2, y2) = b\n",
    "    return ((x1 - x2) ** 2 + (y1 - y2) ** 2) ** (1/2)"
   ]
  },
  {
   "cell_type": "code",
   "execution_count": 177,
   "metadata": {},
   "outputs": [],
   "source": [
    "#과제 3-1 구현한 euclidean distance를 heuristic함수로 사용하여 greedy best first search 구현하기(위에 제공된 코드를 복사하여서 수행하시면 됩니다)\n",
    "def greedy_best_first_search(graph: WeightedGraph, start: Location, goal: Location):\n",
    "    frontier = PriorityQueue()\n",
    "    frontier.put(start, 0)\n",
    "    came_from: Dict[Location, Optional[Location]] = {}\n",
    "    came_from[start] = None\n",
    "\n",
    "    while not frontier.empty():\n",
    "        current: Location = frontier.get()\n",
    "\n",
    "        if current == goal:\n",
    "            break\n",
    "\n",
    "        for next in graph.neighbors(current):\n",
    "            if next not in came_from:\n",
    "                #bfs와 동일하지만 priority를 heuristic함수를 사용합니다.\n",
    "                #next와 goal이 얼마나 가까운지를 알려주는 heuristic 함수 중 하나인 manhattan distance를 사용합니다.\n",
    "                priority = heuristic_euclidean(next, goal) \n",
    "                frontier.put(next, priority)\n",
    "                came_from[next] = current\n",
    "    return came_from"
   ]
  },
  {
   "cell_type": "code",
   "execution_count": 178,
   "metadata": {},
   "outputs": [],
   "source": [
    "#과제 3-2 구현한 euclidean distance를 heuristic함수로 사용하여 A* search를 구현하기(위에 제공된 코드를 복사하여서 수행하시면 됩니다)\n",
    "def a_star_search(graph: WeightedGraph, start: Location, goal: Location):\n",
    "    frontier = PriorityQueue()\n",
    "    frontier.put(start, 0)\n",
    "    came_from: Dict[Location, Optional[Location]] = {}\n",
    "    cost_so_far: Dict[Location, float] = {}\n",
    "    came_from[start] = None\n",
    "    cost_so_far[start] = 0\n",
    "    \n",
    "    while not frontier.empty():\n",
    "        current: Location = frontier.get()\n",
    "        \n",
    "        if current == goal:\n",
    "            break\n",
    "        #uniformed cost search와 동일합니다\n",
    "        for next in graph.neighbors(current):\n",
    "            new_cost = cost_so_far[current] + graph.cost(current, next)\n",
    "            if next not in cost_so_far or new_cost < cost_so_far[next]:\n",
    "                cost_so_far[next] = new_cost\n",
    "                #다만 a*는 heuristic과 cost를 함께 사용합니다. \n",
    "                #priority는 heuristic과 cost를 더한 값을 사용하게 됩니다.\n",
    "                priority = new_cost + heuristic_euclidean(next, goal) \n",
    "                frontier.put(next, priority)\n",
    "                came_from[next] = current\n",
    "    \n",
    "    return came_from, cost_so_far"
   ]
  },
  {
   "cell_type": "code",
   "execution_count": 179,
   "metadata": {},
   "outputs": [
    {
     "name": "stdout",
     "output_type": "stream",
     "text": [
      "_____________________________________________\n",
      " 1  1  1  1  1  1  1  1  1  1  1  1  1  1  1 \n",
      " 1  1  1  1  1  1  1  1  1  1  1  1  1  1  1 \n",
      " 1  1  1  1  @  @  @  @  @  @  @  @  @  @  Z \n",
      " 1  1  1  1  @ ######################## 1  1 \n",
      " 1  1  1  1  @  @  @  @  @  @  @  1 ### 1  1 \n",
      " 1  1  1  1  1  1  1  1  1  1  @  1 ### 1  1 \n",
      " 1  1  1  1  1  1  1  1  1  @  @  1 ### 1  1 \n",
      " 1  1  1  1  1  1  1  1  @  @  1  1 ### 1  1 \n",
      " 1  1  1  1  1  1  1  @  @  1  1  1 ### 1  1 \n",
      " 1  1  1  1  1  1  @  @  1  1  1  1 ### 1  1 \n",
      " 1  1  1  1  1  @  @  1  1  1  1  1 ### 1  1 \n",
      " 1  @  @  @  @  @  1  1  1  1  1  1 ### 1  1 \n",
      " A  @ ################################# 1  1 \n",
      " 1  1  1  1  1  1  1  1  1  1  1  1  1  1  1 \n",
      " 1  1  1  1  1  1  1  1  1  1  1  1  1  1  1 \n",
      "~~~~~~~~~~~~~~~~~~~~~~~~~~~~~~~~~~~~~~~~~~~~~\n"
     ]
    }
   ],
   "source": [
    "#과제4-1 greedy best first search grid3\n",
    "came_from_g = greedy_best_first_search(grid3, start3, goal3)\n",
    "draw_grid(grid3, path=reconstruct_path(came_from_g, start=start3, goal=goal3),\n",
    "          number=grid3.weights, start=start3, goal=goal3)"
   ]
  },
  {
   "cell_type": "code",
   "execution_count": 180,
   "metadata": {},
   "outputs": [
    {
     "name": "stdout",
     "output_type": "stream",
     "text": [
      "_____________________________________________\n",
      " 1  1  1  1  1  1  1  1  1  1  1  1  1  1  1 \n",
      " 1  1  1  1  1  1  1  1  1  1  1  1  1  1  1 \n",
      " 1  1  1  1  1  1  1  1  1  1  1  1  1  @  Z \n",
      " 1  1  1  1  1 ######################## @  1 \n",
      " 1  1  1  1  1  1  1  1  1  1  1  1 ### @  1 \n",
      " 1  1  1  1  1  1  1  1  1  1  1  1 ### @  1 \n",
      " 1  1  1  1  1  1  1  1  1  @  @  @ ### @  1 \n",
      " 1  1  1  1  1  1  1  1  @  @  1  @ ### @  1 \n",
      " 1  1  1  1  1  1  1  @  @  1  1  @ ### @  1 \n",
      " 1  1  1  1  1  1  @  @  1  1  1  @ ### @  1 \n",
      " 1  1  1  1  1  @  @  1  1  1  1  @ ### @  1 \n",
      " 1  @  @  @  @  @  1  1  1  1  1  @  @  @  1 \n",
      " A  @ ################################# 1  1 \n",
      " 1  1  1  1  1  1  1  1  1  1  1  1  1  1  1 \n",
      " 1  1  1  1  1  1  1  1  1  1  1  1  1  1  1 \n",
      "~~~~~~~~~~~~~~~~~~~~~~~~~~~~~~~~~~~~~~~~~~~~~\n"
     ]
    }
   ],
   "source": [
    "#과제4-1 greedy best first search grid3\n",
    "came_from_g = greedy_best_first_search(grid4, start3, goal3)\n",
    "draw_grid(grid4, path=reconstruct_path(came_from_g, start=start3, goal=goal3),\n",
    "          number=grid4.weights, start=start3, goal=goal3)"
   ]
  },
  {
   "cell_type": "code",
   "execution_count": 181,
   "metadata": {},
   "outputs": [
    {
     "name": "stdout",
     "output_type": "stream",
     "text": [
      "_____________________________________________\n",
      " 1  1  1  1  1  1  1  1  1  1  1  1  1  1  1 \n",
      " 1  1  1  1  1  1  1  1  1  1  1  1  1  1  1 \n",
      " 1  1  1  1  @  @  @  @  @  @  @  @  @  @  Z \n",
      " 1  1  1  1  @ ######################## 1  1 \n",
      " 1  1  1  1  @  1  1  1  1  1  1  1 ### 1  1 \n",
      " 1  1  1  1  @  1  1  1  1  1  1  1 ### 1  1 \n",
      " 1  1  1  1  @  1  1  1  1  1  1  1 ### 1  1 \n",
      " 1  1  1  1  @  1  1  1  1  1  1  1 ### 1  1 \n",
      " 1  1  1  @  @  1  1  1  1  1  1  1 ### 1  1 \n",
      " 1  1  @  @  1  1  1  1  1  1  1  1 ### 1  1 \n",
      " 1  @  @  1  1  1  1  1  1  1  1  1 ### 1  1 \n",
      " @  @  1  1  1  1  1  1  1  1  1  1 ### 1  1 \n",
      " A  1 ################################# 1  1 \n",
      " 1  1  1  1  1  1  1  1  1  1  1  1  1  1  1 \n",
      " 1  1  1  1  1  1  1  1  1  1  1  1  1  1  1 \n",
      "~~~~~~~~~~~~~~~~~~~~~~~~~~~~~~~~~~~~~~~~~~~~~\n"
     ]
    }
   ],
   "source": [
    "#과제 5-1 A* search grid3\n",
    "came_from_a, cost_so_far_a = a_star_search(grid3, start3, goal3)\n",
    "draw_grid(grid3, path=reconstruct_path(came_from_a, start=start3, goal=goal3),\n",
    "          number=grid3.weights, start=start3, goal=goal3)"
   ]
  },
  {
   "cell_type": "code",
   "execution_count": 182,
   "metadata": {},
   "outputs": [
    {
     "name": "stdout",
     "output_type": "stream",
     "text": [
      "_____________________________________________\n",
      " 1  1  1  1  1  1  1  1  1  1  1  1  1  1  1 \n",
      " 1  1  1  1  1  1  1  1  1  1  1  1  1  1  1 \n",
      " 1  1  1  1  @  @  @  @  @  @  @  @  @  @  Z \n",
      " 1  1  1  1  @ ######################## 1  1 \n",
      " 1  1  1  1  @  1  1  1  1  1  1  1 ### 1  1 \n",
      " 1  1  1  1  @  1  1  1  1  1  1  1 ### 1  1 \n",
      " 1  1  1  1  @  1  1  1  1  1  1  1 ### 1  1 \n",
      " 1  1  1  1  @  1  1  1  1  1  1  1 ### 1  1 \n",
      " 1  1  1  @  @  1  1  1  1  1  1  1 ### 1  1 \n",
      " 1  1  @  @  1  1  1  1  1  1  1  1 ### 1  1 \n",
      " 1  @  @  1  1  1  1  1  1  1  1  1 ### 1  1 \n",
      " @  @  1  1  1  1  1  1  1  1  1  1  1  1  1 \n",
      " A  1 ################################# 1  1 \n",
      " 1  1  1  1  1  1  1  1  1  1  1  1  1  1  1 \n",
      " 1  1  1  1  1  1  1  1  1  1  1  1  1  1  1 \n",
      "~~~~~~~~~~~~~~~~~~~~~~~~~~~~~~~~~~~~~~~~~~~~~\n"
     ]
    }
   ],
   "source": [
    "#과제 5-2 A* search grid3\n",
    "came_from_a, cost_so_far_a = a_star_search(grid4, start3, goal3)\n",
    "draw_grid(grid4, path=reconstruct_path(came_from_a, start=start3, goal=goal3),\n",
    "          number=grid4.weights, start=start3, goal=goal3)"
   ]
  },
  {
   "cell_type": "markdown",
   "metadata": {},
   "source": [
    "#과제 6(마크다운으로 작성하셔도, 주석으로 작성하셔도 됩니다. 자유롭게 분석하여 작성해주세요)\n",
    "\n",
    "위에서 보인 BFS, UCS, Greedy, A* algorithm의 path들을 optimality 관점으로 비교 및 분석한다.\n",
    "\n",
    "\n",
    "\n",
    "## BFS\n",
    "\n",
    "![](./image1.png)\n",
    "\n",
    "BFS의 Path를 보았을 때, 항상 최단 거리를 통하는 것을 알 수 있다.\n",
    "즉, BFS는 optimality가 보장된다.\n",
    "\n",
    "## UCS\n",
    "\n",
    "![](./image2.png)\n",
    "\n",
    "BFS의 Path를 보았을 때, 항상 최소의 Cost를 소비하는 경로를 통하는 것을 알 수 있다.\n",
    "즉, UCS는 optimality가 보장된다.\n",
    "\n",
    "## Greedy Best-First Search\n",
    "\n",
    "![](./image3.png)\n",
    "\n",
    "Greedy Best-First Search의 Path를 보았을 때, 최소의 Cost를 소비하는 경로를 통하지 않는 것을 알 수 있다.\n",
    "그 때문에 벽에 부딪혀서 빙 둘러 가는 경우도 보인다.\n",
    "즉, Greedy Best-First Search는 optimality가 보장되지 않는다.\n",
    "\n",
    "## A*\n",
    "\n",
    "![](./image4.png)\n",
    "\n",
    "Greedy Best-First Search의 Path를 보았을 때, 최소의 Cost를 소비하는 경로를 통하는 것을 알 수 있다.\n",
    "즉, A*는 optimality가 보장된다."
   ]
  }
 ],
 "metadata": {
  "colab": {
   "name": "인공지능 실습 1차시.ipynb",
   "provenance": []
  },
  "kernelspec": {
   "display_name": "Python 3 (ipykernel)",
   "language": "python",
   "name": "python3"
  },
  "language_info": {
   "codemirror_mode": {
    "name": "ipython",
    "version": 3
   },
   "file_extension": ".py",
   "mimetype": "text/x-python",
   "name": "python",
   "nbconvert_exporter": "python",
   "pygments_lexer": "ipython3",
   "version": "3.9.7"
  }
 },
 "nbformat": 4,
 "nbformat_minor": 1
}
